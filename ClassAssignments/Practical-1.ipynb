{
 "cells": [
  {
   "cell_type": "markdown",
   "metadata": {},
   "source": [
    "## Question 2"
   ]
  },
  {
   "cell_type": "code",
   "execution_count": 6,
   "metadata": {},
   "outputs": [
    {
     "name": "stdout",
     "output_type": "stream",
     "text": [
      "Hello Everyone !!!\n",
      "Hello\n",
      "World\n",
      "Hello              World\n",
      "'Rohit's date of birth is 12\\05\\1999'\n"
     ]
    }
   ],
   "source": [
    "# Q2: Write Python programs to print strings in the given manner\n",
    "# a) Hello Everyone !!!\n",
    "print(\"Hello Everyone !!!\")\n",
    "\n",
    "# b) Hello World\n",
    "print(\"Hello\\nWorld\")\n",
    "\n",
    "# c) Hello              World\n",
    "print(\"Hello              World\")\n",
    "\n",
    "# d) 'Rohit's date of birth is 12\\05\\1999'\n",
    "print(\"'Rohit\\'s date of birth is 12\\\\05\\\\1999'\")"
   ]
  },
  {
   "cell_type": "markdown",
   "metadata": {},
   "source": [
    "## Question 3"
   ]
  },
  {
   "cell_type": "code",
   "execution_count": 7,
   "metadata": {},
   "outputs": [
    {
     "name": "stdout",
     "output_type": "stream",
     "text": [
      "Hello\n"
     ]
    }
   ],
   "source": [
    "# Q3: Declare a string variable called x and assign it the value “Hello”.\n",
    "# Print out the value of x\n",
    "x = \"Hello\"\n",
    "print(x)"
   ]
  },
  {
   "cell_type": "markdown",
   "metadata": {},
   "source": [
    "## Questionn 4"
   ]
  },
  {
   "cell_type": "code",
   "execution_count": 8,
   "metadata": {},
   "outputs": [
    {
     "name": "stdout",
     "output_type": "stream",
     "text": [
      "5 3.14 Hello True\n"
     ]
    }
   ],
   "source": [
    "# Q4: Take different data types and print values using print function.\n",
    "var_int = 5\n",
    "var_float = 3.14\n",
    "var_str = \"Hello\"\n",
    "var_bool = True\n",
    "print(var_int, var_float, var_str, var_bool)"
   ]
  },
  {
   "cell_type": "markdown",
   "metadata": {},
   "source": [
    "## Question 5"
   ]
  },
  {
   "cell_type": "code",
   "execution_count": 9,
   "metadata": {},
   "outputs": [
    {
     "name": "stdout",
     "output_type": "stream",
     "text": [
      "John Doe\n"
     ]
    }
   ],
   "source": [
    "# Q5: Take two variables a and b. Assign your first name and last name.\n",
    "# Print your Name after adding your First name and Last name together.\n",
    "a = \"John\"\n",
    "b = \"Doe\"\n",
    "print(a + \" \" + b)"
   ]
  },
  {
   "cell_type": "markdown",
   "metadata": {},
   "source": [
    "## Question 6"
   ]
  },
  {
   "cell_type": "code",
   "execution_count": 10,
   "metadata": {},
   "outputs": [
    {
     "name": "stdout",
     "output_type": "stream",
     "text": [
      "George (Woody) Washington.\n"
     ]
    }
   ],
   "source": [
    "# Q6: Declare three variables, consisting of your first name, your last name, and Nickname.\n",
    "# Write a program that prints out your first name, then your nickname in parenthesis,\n",
    "# and then your last name.\n",
    "# Example output: George (Woody) Washington.\n",
    "first_name = \"George\"\n",
    "last_name = \"Washington\"\n",
    "nickname = \"Woody\"\n",
    "print(f\"{first_name} ({nickname}) {last_name}.\")"
   ]
  },
  {
   "cell_type": "markdown",
   "metadata": {},
   "source": [
    "## Question 7"
   ]
  },
  {
   "cell_type": "code",
   "execution_count": 11,
   "metadata": {},
   "outputs": [
    {
     "name": "stdout",
     "output_type": "stream",
     "text": [
      "NAME: NIKUNJ BANSAL\n",
      "SAP ID: 500069944\n",
      "DATE OF BIRTH: 13 Oct 1999\n",
      "ADDRESS: UPES\n",
      "Bidholi Campus\n",
      "Pincode: 248007\n",
      "Programme: AI & ML\n",
      "Semester: 2\n"
     ]
    }
   ],
   "source": [
    "\n",
    "# Q7: Declare and assign values to suitable variables and print in the following way:\n",
    "# NAME: NIKUNJ BANSAL\n",
    "# SAP ID: 500069944\n",
    "# DATE OF BIRTH: 13 Oct 1999\n",
    "# ADDRESS: UPES\n",
    "#          Bidholi Campus\n",
    "#          Pincode: 248007\n",
    "# Programme: AI & ML\n",
    "# Semester: 2\n",
    "name = \"NIKUNJ BANSAL\"\n",
    "sap_id = 500069944\n",
    "dob = \"13 Oct 1999\"\n",
    "address = \"UPES\\nBidholi Campus\\nPincode: 248007\"\n",
    "programme = \"AI & ML\"\n",
    "semester = 2\n",
    "print(f\"NAME: {name}\\nSAP ID: {sap_id}\\nDATE OF BIRTH: {dob}\\nADDRESS: {address}\\nProgramme: {programme}\\nSemester: {semester}\")"
   ]
  }
 ],
 "metadata": {
  "kernelspec": {
   "display_name": "base",
   "language": "python",
   "name": "python3"
  },
  "language_info": {
   "codemirror_mode": {
    "name": "ipython",
    "version": 3
   },
   "file_extension": ".py",
   "mimetype": "text/x-python",
   "name": "python",
   "nbconvert_exporter": "python",
   "pygments_lexer": "ipython3",
   "version": "3.11.5"
  }
 },
 "nbformat": 4,
 "nbformat_minor": 2
}
