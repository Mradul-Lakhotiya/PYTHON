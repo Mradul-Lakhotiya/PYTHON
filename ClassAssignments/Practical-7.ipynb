{
 "cells": [
  {
   "cell_type": "markdown",
   "metadata": {},
   "source": [
    "### Question 1\n",
    "Write a Python function to find the maximum and minimum numbers from a sequence of numbers.  (Note: Do not use built-in functions.)"
   ]
  },
  {
   "cell_type": "code",
   "execution_count": 1,
   "metadata": {},
   "outputs": [
    {
     "name": "stdout",
     "output_type": "stream",
     "text": [
      "Maximum value in the list: 4\n",
      "Minimum value in the list: 1\n"
     ]
    }
   ],
   "source": [
    "def max_in_list(arr):\n",
    "    max_value = arr[0]\n",
    "\n",
    "    for i in range(1, len(arr)):\n",
    "        if arr[i] > max_value:\n",
    "            max_value = arr[i]\n",
    "\n",
    "    return max_value\n",
    "\n",
    "def min_in_list(arr):\n",
    "    min_value = arr[0]\n",
    "\n",
    "    for i in range(1, len(arr)):\n",
    "        if arr[i] < min_value:\n",
    "            min_value = arr[i]\n",
    "\n",
    "    return min_value\n",
    "\n",
    "n = int(input(\"Enter the number of elements in the list: \"))\n",
    "\n",
    "list1 = []\n",
    "\n",
    "for _ in range(n):\n",
    "    num = int(input(\"Enter a number: \"))\n",
    "    list1.append(num)\n",
    "\n",
    "max_value = max_in_list(list1)\n",
    "min_value = min_in_list(list1)\n",
    "\n",
    "print(\"Maximum value in the list:\", max_value)\n",
    "print(\"Minimum value in the list:\", min_value)"
   ]
  },
  {
   "cell_type": "markdown",
   "metadata": {},
   "source": [
    "### Question 2\n",
    "Write a Python function that takes a positive integer and returns the sum of the cube of all the positive integers smaller than the specified number. "
   ]
  },
  {
   "cell_type": "code",
   "execution_count": 2,
   "metadata": {},
   "outputs": [
    {
     "name": "stdout",
     "output_type": "stream",
     "text": [
      "The sum of cubes of positive integers smaller than 4 is: 36\n"
     ]
    }
   ],
   "source": [
    "def sum_of_cubes(n):\n",
    "    cube_sum = 0\n",
    "\n",
    "    for i in range(1, n):\n",
    "        cube_sum += i ** 3\n",
    "\n",
    "    return cube_sum\n",
    "\n",
    "positive_integer = int(input(\"Enter a positive integer: \"))\n",
    "result = sum_of_cubes(positive_integer)\n",
    "print(f\"The sum of cubes of positive integers smaller than {positive_integer} is: {result}\")\n"
   ]
  },
  {
   "cell_type": "markdown",
   "metadata": {},
   "source": [
    "### Question 3\n",
    "\n",
    "Write a Python function to print 1 to n using recursion. (Note: Do not use loop)"
   ]
  },
  {
   "cell_type": "code",
   "execution_count": 5,
   "metadata": {},
   "outputs": [
    {
     "name": "stdout",
     "output_type": "stream",
     "text": [
      "1, 2, 3, 4, 5, 6, 7, 8, "
     ]
    }
   ],
   "source": [
    "def printToN(n):\n",
    "    if (n == 0):\n",
    "        return\n",
    "    printToN(n - 1)\n",
    "    print(str(n) + \", \", end='')\n",
    "\n",
    "printToN(8)"
   ]
  },
  {
   "cell_type": "markdown",
   "metadata": {},
   "source": [
    "### Question 4\n",
    "Write a recursive function to print Fibonacci series upto n terms."
   ]
  },
  {
   "cell_type": "code",
   "execution_count": null,
   "metadata": {},
   "outputs": [],
   "source": [
    "def fibonacci_series(n, a=0, b=1):\n",
    "    if n <= 0:\n",
    "        return\n",
    "    else:\n",
    "        print(a, end=', ')\n",
    "        fibonacci_series(n-1, b, a+b)\n",
    "\n",
    "# Example usage:\n",
    "n_terms = int(input(\"Enter the number of terms for the Fibonacci series: \"))\n",
    "print(\"Fibonacci series up to\", n_terms, \"terms:\")\n",
    "fibonacci_series(n_terms)\n"
   ]
  },
  {
   "cell_type": "markdown",
   "metadata": {},
   "source": [
    "### Question 5\n",
    "Write a lambda function to find volume of cone."
   ]
  },
  {
   "cell_type": "code",
   "execution_count": 6,
   "metadata": {},
   "outputs": [
    {
     "name": "stdout",
     "output_type": "stream",
     "text": [
      "The volume of the cone is: 28.274309999999996\n"
     ]
    }
   ],
   "source": [
    "# Lambda function to calculate the volume of a cone\n",
    "volume_of_cone = lambda radius, height: (1/3) * 3.14159 * radius**2 * height\n",
    "\n",
    "# Example usage:\n",
    "cone_radius = float(input(\"Enter the radius of the cone: \"))\n",
    "cone_height = float(input(\"Enter the height of the cone: \"))\n",
    "\n",
    "# Call the lambda function to calculate the volume\n",
    "result = volume_of_cone(cone_radius, cone_height)\n",
    "\n",
    "print(\"The volume of the cone is:\", result)\n"
   ]
  },
  {
   "cell_type": "markdown",
   "metadata": {},
   "source": [
    "### Question 6\n",
    "Write a lambda function which gives tuple of max and min from a list.\n",
    "\n",
    "Sample input: [10, 6, 8, 90, 12, 56]\n",
    "\n",
    "Sample output: (90,6)\n"
   ]
  },
  {
   "cell_type": "code",
   "execution_count": null,
   "metadata": {},
   "outputs": [],
   "source": [
    "# Lambda function to find tuple of max and min from a list\n",
    "max_min_tuple = lambda lst: (max(lst), min(lst))\n",
    "\n",
    "# Example usage:\n",
    "input_list = [10, 6, 8, 90, 12, 56]\n",
    "\n",
    "# Call the lambda function to get the tuple of max and min\n",
    "result = max_min_tuple(input_list)\n",
    "\n",
    "print(\"Sample input:\", input_list)\n",
    "print(\"Sample output:\", result)\n"
   ]
  },
  {
   "cell_type": "markdown",
   "metadata": {},
   "source": [
    "### Question 7\n",
    "Write functions to explain mentioned concepts:\n",
    "\n",
    "a.\tKeyword argument\n",
    "\n",
    "b.\tDefault argument\n",
    "\n",
    "c.\tVariable length argument\n"
   ]
  },
  {
   "cell_type": "code",
   "execution_count": 1,
   "metadata": {},
   "outputs": [
    {
     "name": "stdout",
     "output_type": "stream",
     "text": [
      "Hi Alice!\n",
      "Hello Bob!\n",
      "The sum is: 6\n",
      "The sum is: 22\n"
     ]
    },
    {
     "ename": "",
     "evalue": "",
     "output_type": "error",
     "traceback": [
      "\u001b[1;31mThe Kernel crashed while executing code in the current cell or a previous cell. \n",
      "\u001b[1;31mPlease review the code in the cell(s) to identify a possible cause of the failure. \n",
      "\u001b[1;31mClick <a href='https://aka.ms/vscodeJupyterKernelCrash'>here</a> for more info. \n",
      "\u001b[1;31mView Jupyter <a href='command:jupyter.viewOutput'>log</a> for further details."
     ]
    }
   ],
   "source": [
    " # Function with keyword argument\n",
    "def greet_person(name, greeting=\"Hello\"):\n",
    "    print(f\"{greeting} {name}!\")\n",
    "\n",
    "# Function with variable-length arguments\n",
    "def calculate_sum(*args):\n",
    "    total = sum(args)\n",
    "    print(f\"The sum is: {total}\")\n",
    "\n",
    "# Example usage\n",
    "def main():\n",
    "    # Using keyword argument\n",
    "    greet_person(name=\"Alice\", greeting=\"Hi\")\n",
    "\n",
    "    # Using default argument\n",
    "    greet_person(name=\"Bob\")  # Defaults to \"Hello\"\n",
    "\n",
    "    # Using variable-length arguments\n",
    "    calculate_sum(1, 2, 3)\n",
    "    calculate_sum(4, 5, 6, 7)\n",
    "\n",
    "if __name__ == \"__main__\":\n",
    "    main()"
   ]
  },
  {
   "cell_type": "code",
   "execution_count": null,
   "metadata": {},
   "outputs": [],
   "source": []
  }
 ],
 "metadata": {
  "kernelspec": {
   "display_name": "base",
   "language": "python",
   "name": "python3"
  },
  "language_info": {
   "codemirror_mode": {
    "name": "ipython",
    "version": 3
   },
   "file_extension": ".py",
   "mimetype": "text/x-python",
   "name": "python",
   "nbconvert_exporter": "python",
   "pygments_lexer": "ipython3",
   "version": "3.11.5"
  }
 },
 "nbformat": 4,
 "nbformat_minor": 2
}
