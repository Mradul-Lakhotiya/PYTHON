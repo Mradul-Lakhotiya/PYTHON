{
 "cells": [
  {
   "cell_type": "markdown",
   "metadata": {},
   "source": [
    "### Question 1"
   ]
  },
  {
   "cell_type": "code",
   "execution_count": 1,
   "metadata": {},
   "outputs": [
    {
     "name": "stdout",
     "output_type": "stream",
     "text": [
      "5 is Divisible by 5\n"
     ]
    }
   ],
   "source": [
    "# 1. Check whether given number is divisible by 3 and 5 both\n",
    "\n",
    "num = int(input(\"Enter a number : \"))\n",
    "\n",
    "if (num % 3 == 0 & num % 5 == 0):\n",
    "    print(f\"{num} is Divisible by both 3 and 5 \")\n",
    "elif (num % 3 == 0):\n",
    "    print(f\"{num} is Divisible by 3\")\n",
    "elif (num % 5 == 0):\n",
    "    print(f\"{num} is Divisible by 5\")\n",
    "else:\n",
    "    print(f\"{num} is not Divisible by 5 or 3\")"
   ]
  },
  {
   "cell_type": "markdown",
   "metadata": {},
   "source": [
    "### Question 2"
   ]
  },
  {
   "cell_type": "code",
   "execution_count": 5,
   "metadata": {},
   "outputs": [
    {
     "name": "stdout",
     "output_type": "stream",
     "text": [
      "3 is not Divisible by 5\n"
     ]
    }
   ],
   "source": [
    "# 2. Check whether a given number is multiple of five or not.\n",
    "\n",
    "num = int(input())\n",
    "\n",
    "if (num % 5 == 0):\n",
    "    print(f\"{num} id Divisible by 5\")\n",
    "else:\n",
    "    print(f\"{num} is not Divisible by 5\")"
   ]
  },
  {
   "cell_type": "markdown",
   "metadata": {},
   "source": [
    "### Question 3"
   ]
  },
  {
   "cell_type": "code",
   "execution_count": 8,
   "metadata": {},
   "outputs": [
    {
     "name": "stdout",
     "output_type": "stream",
     "text": [
      "2 = 2\n"
     ]
    }
   ],
   "source": [
    "# 3. Find the greatest among two numbers. If numbers are equal than print “numbers are equal”.\n",
    "\n",
    "num1 = int(input())\n",
    "num2 = int(input())\n",
    "\n",
    "if (num1 == num2):\n",
    "    print(f\"{num1} = {num2}\")\n",
    "elif (num1 > num2):\n",
    "    print(f\"{num1} > {num2}\")\n",
    "else:\n",
    "    print(f\"{num1} < {num2}\")"
   ]
  },
  {
   "cell_type": "markdown",
   "metadata": {},
   "source": [
    "### Question 4"
   ]
  },
  {
   "cell_type": "code",
   "execution_count": 10,
   "metadata": {},
   "outputs": [
    {
     "name": "stdout",
     "output_type": "stream",
     "text": [
      "4 is the maximum is 2, 3, 4\n"
     ]
    }
   ],
   "source": [
    "# 4. Find the greatest among three numbers assuming no two values are same.\n",
    "\n",
    "num1 = int(input())\n",
    "num2 = int(input())\n",
    "num3 = int(input())\n",
    "\n",
    "max = None\n",
    "\n",
    "if (num1 > num2):\n",
    "    if(num3 > num1):\n",
    "        max = num3\n",
    "    else:\n",
    "        max = num1\n",
    "else:\n",
    "    if (num3 > num2):\n",
    "        max = num3\n",
    "    else:\n",
    "        max = num2\n",
    "\n",
    "print(f\"{max} is the maximum is {num1}, {num2}, {num3}\")"
   ]
  },
  {
   "cell_type": "markdown",
   "metadata": {},
   "source": [
    "### Question 5"
   ]
  },
  {
   "cell_type": "code",
   "execution_count": 12,
   "metadata": {},
   "outputs": [
    {
     "name": "stdout",
     "output_type": "stream",
     "text": [
      "Imaginary Roots\n",
      "Roots are -1.0 + 3.464i and -1.0 - 3.464i\n"
     ]
    }
   ],
   "source": [
    "# 5. Check whether the quadratic equation has real roots or imaginary roots. Display the roots.\n",
    "\n",
    "a = float(input())\n",
    "b = float(input())\n",
    "c = float(input())\n",
    "\n",
    "D = (b ** 2) - (4 * (a * c))\n",
    "\n",
    "if (D >= 0):\n",
    "    print(\"Real Roots\")\n",
    "    print(f\"The roots are {(-b + (D ** 0.5))/2:.3f} and {(-b - (D ** 0.5))/2:.3f}\")\n",
    "else:\n",
    "    print(\"Imaginary Roots\")\n",
    "    print(f\"Roots are {-b/2} + {(((-1) * D) ** 0.5):.3f}i and {-b/2} - {(((-1) * D) ** 0.5):.3f}i\")\n"
   ]
  },
  {
   "cell_type": "markdown",
   "metadata": {},
   "source": [
    "### Question 6"
   ]
  },
  {
   "cell_type": "code",
   "execution_count": 13,
   "metadata": {},
   "outputs": [
    {
     "name": "stdout",
     "output_type": "stream",
     "text": [
      "2000 is a leap year\n"
     ]
    }
   ],
   "source": [
    "# 6. Find whether a given year is a leap year or not.\n",
    "\n",
    "year = int(input())\n",
    "\n",
    "if (year % 4 == 0):\n",
    "    if (year % 100 == 0):\n",
    "        if (year % 400 == 0):\n",
    "            print(f\"{year} is a leap year\")\n",
    "        else:\n",
    "            print(f\"{year} is not leap year\")\n",
    "    else:\n",
    "        print(f\"{year} is a leap year\")\n",
    "else:\n",
    "    print(f\"{year} is not leap year\")"
   ]
  },
  {
   "cell_type": "markdown",
   "metadata": {},
   "source": [
    "### Question 7"
   ]
  },
  {
   "cell_type": "code",
   "execution_count": 17,
   "metadata": {},
   "outputs": [
    {
     "name": "stdout",
     "output_type": "stream",
     "text": [
      "Next Date: day=2 month=12 year=2005\n"
     ]
    }
   ],
   "source": [
    "# 7.\tWrite a program which takes any date as input and display next date of the calendar\n",
    "# e.g.\n",
    "# I/P: day=20 month=9 year=2005 \n",
    "# O/P: day=21 month=9 year 2005\n",
    "\n",
    "\n",
    "def is_leap_year(year):\n",
    "    return (year % 4 == 0 and year % 100 != 0) or (year % 400 == 0)\n",
    "\n",
    "def get_next_date(year, month, day):\n",
    "    days_in_month = [0, 31, 28, 31, 30, 31, 30, 31, 31, 30, 31, 30, 31]\n",
    "\n",
    "    if is_leap_year(year):\n",
    "        days_in_month[2] = 29\n",
    "\n",
    "    if 1 <= month <= 12 and 1 <= day <= days_in_month[month]:\n",
    "        day += 1\n",
    "\n",
    "        if day > days_in_month[month]:\n",
    "            day = 1\n",
    "            month += 1\n",
    "\n",
    "            if month > 12:\n",
    "                month = 1\n",
    "                year += 1\n",
    "    else:\n",
    "        return None\n",
    "\n",
    "    next_date = [year, month, day]\n",
    "\n",
    "    return next_date\n",
    "\n",
    "year = int(input(\"Enter the Year: \"))\n",
    "month = int(input(\"Enter The Month: \"))\n",
    "day = int(input(\"Enter the Day: \"))\n",
    "\n",
    "new_date = get_next_date(year, month, day)\n",
    "\n",
    "if new_date:\n",
    "    print(f\"Next Date: day={new_date[2]} month={new_date[1]} year={new_date[0]}\")\n",
    "else:\n",
    "    print(\"Invalid date input.\")\n"
   ]
  },
  {
   "cell_type": "markdown",
   "metadata": {},
   "source": [
    "### Question 8"
   ]
  },
  {
   "cell_type": "code",
   "execution_count": 20,
   "metadata": {},
   "outputs": [
    {
     "name": "stdout",
     "output_type": "stream",
     "text": [
      "\n",
      "Sample Gradesheet\n",
      "Name: Mradul \n",
      "Roll Number: Rsometim=ng\t\tSAPID: 500125405\n",
      "Sem: 2\t\t\tCourse: B.Tech CSE\n",
      "\n",
      "PDS:\t\t60\n",
      "Python:\t\t60\n",
      "Chemistry:\t\t60\n",
      "English:\t\t60\n",
      "Physics:\t\t90\n",
      "Percentage: 66.0%\n",
      "CGPA: 6.6\n",
      "Grade: B+\n"
     ]
    }
   ],
   "source": [
    "# 8. Print the grade sheet of a student for the given range of cgpa. Scan marks of five subjects and calculate the percentage.\n",
    "# CGPA=percentage/10\n",
    "# CGPA range:\n",
    "# 0 to 3.4 -> F\n",
    "# 3.5 to 5.0->C+\n",
    "# 5.1 to 6->B\n",
    "# 6.1 to 7-> B+\n",
    "# 7.1 to 8-> A\n",
    "# 8.1 to 9->A+\n",
    "# 9.1 to 10-> O (Outstanding)\n",
    "\n",
    "# Sample Gradesheet\n",
    "# Name: Rohit Sharma\n",
    "# Roll Number: R17234512\t\t\tSAPID: 50005673\n",
    "# Sem: 1\t\t\t\t\t\tCourse: B.Tech. CSE AI&ML\n",
    "\n",
    "# Subject name: Marks\n",
    "# PDS: \t\t70\n",
    "# Python: \t80\n",
    "# Chemistry: \t90\n",
    "# English: \t60\n",
    "# Physics: \t50\n",
    "# Percentage: 70%\n",
    "# CGPA:7.0\n",
    "# Grade:  A\n",
    "\n",
    "\n",
    "def calculate_percentage(marks):\n",
    "    return sum(marks) / len(marks)\n",
    "\n",
    "def calculate_cgpa(percentage):\n",
    "    return percentage / 10\n",
    "\n",
    "def determine_grade(cgpa):\n",
    "    if cgpa >= 9.1:\n",
    "        return 'O (Outstanding)'\n",
    "    elif cgpa >= 8.1:\n",
    "        return 'A+'\n",
    "    elif cgpa >= 7.1:\n",
    "        return 'A'\n",
    "    elif cgpa >= 6.1:\n",
    "        return 'B+'\n",
    "    elif cgpa >= 5.1:\n",
    "        return 'B'\n",
    "    elif cgpa >= 3.5:\n",
    "        return 'C+'\n",
    "    else:\n",
    "        return 'F'\n",
    "\n",
    "\n",
    "name = input(\"Enter student's name: \")\n",
    "roll_number = input(\"Enter roll number: \")\n",
    "sapid = input(\"Enter SAPID: \")\n",
    "semester = input(\"Enter semester: \")\n",
    "course = input(\"Enter course: \")\n",
    "\n",
    "\n",
    "subjects = ['PDS', 'Python', 'Chemistry', 'English', 'Physics']\n",
    "marks = [int(input(f\"Enter marks for {subject}: \")) for subject in subjects]\n",
    "\n",
    "percentage = calculate_percentage(marks)\n",
    "\n",
    "cgpa = calculate_cgpa(percentage)\n",
    "\n",
    "grade = determine_grade(cgpa)\n",
    "\n",
    "print(\"\\nSample Gradesheet\")\n",
    "print(f\"Name: {name}\")\n",
    "print(f\"Roll Number: {roll_number}\\t\\tSAPID: {sapid}\")\n",
    "print(f\"Sem: {semester}\\t\\t\\tCourse: {course}\\n\")\n",
    "\n",
    "for i in range(len(subjects)):\n",
    "    print(f\"{subjects[i]}:\\t\\t{marks[i]}\")\n",
    "\n",
    "print(f\"Percentage: {percentage}%\")\n",
    "print(f\"CGPA: {cgpa:.1f}\")\n",
    "print(f\"Grade: {grade}\")\n"
   ]
  }
 ],
 "metadata": {
  "kernelspec": {
   "display_name": "base",
   "language": "python",
   "name": "python3"
  },
  "language_info": {
   "codemirror_mode": {
    "name": "ipython",
    "version": 3
   },
   "file_extension": ".py",
   "mimetype": "text/x-python",
   "name": "python",
   "nbconvert_exporter": "python",
   "pygments_lexer": "ipython3",
   "version": "3.11.5"
  }
 },
 "nbformat": 4,
 "nbformat_minor": 2
}
