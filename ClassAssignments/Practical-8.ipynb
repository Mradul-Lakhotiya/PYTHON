{
 "cells": [
  {
   "cell_type": "markdown",
   "metadata": {},
   "source": [
    "### Question 1\n",
    "Add few names, one name in each row, in “name.txt file”.\n",
    "\n",
    "a.\tCount no of names\n",
    "\n",
    "b.\tCount all names starting with vowel\n",
    "\n",
    "c.\tFind longest name\n"
   ]
  },
  {
   "cell_type": "code",
   "execution_count": 1,
   "metadata": {},
   "outputs": [
    {
     "name": "stdout",
     "output_type": "stream",
     "text": [
      "a. Number of names: 5\n",
      "b. Number of names starting with a vowel: 2\n",
      "c. Longest name: Charlie\n"
     ]
    }
   ],
   "source": [
    "# Practical no 8: File Handling and Exception Handling\n",
    "\n",
    "# Task 1: Add few names to \"name.txt\" file\n",
    "\n",
    "# a. Count no of names\n",
    "with open(\"./Practical-8/name.txt\", \"r\") as file:\n",
    "    names = file.readlines()\n",
    "    num_of_names = len(names)\n",
    "    print(f\"a. Number of names: {num_of_names}\")\n",
    "\n",
    "# b. Count all names starting with vowel\n",
    "vowel_starting_names = [name.strip() for name in names if name[0].lower() in ['a', 'e', 'i', 'o', 'u']]\n",
    "num_of_vowel_starting_names = len(vowel_starting_names)\n",
    "print(f\"b. Number of names starting with a vowel: {num_of_vowel_starting_names}\")\n",
    "\n",
    "# c. Find longest name\n",
    "longest_name = max(names, key=len).strip()\n",
    "print(f\"c. Longest name: {longest_name}\")"
   ]
  },
  {
   "cell_type": "markdown",
   "metadata": {},
   "source": [
    "### Question 2\n",
    "Store integers in a file.\n",
    "\n",
    "a.\tFind the max number\n",
    "\n",
    "b.\tFind average of all numbers\n",
    "\n",
    "c.\tCount number of numbers greater than 100\n"
   ]
  },
  {
   "cell_type": "code",
   "execution_count": 2,
   "metadata": {},
   "outputs": [
    {
     "name": "stdout",
     "output_type": "stream",
     "text": [
      "a. Max number: 120\n",
      "b. Average of all numbers: 86.4\n",
      "c. Number of numbers greater than 100: 2\n"
     ]
    }
   ],
   "source": [
    "# Task 2: Store integers in a file\n",
    "\n",
    "# a. Find the max number\n",
    "with open(\"./Practical-8/numbers.txt\", \"r\") as file:\n",
    "    numbers = [int(num.strip()) for num in file.readlines()]\n",
    "    max_number = max(numbers)\n",
    "    print(f\"a. Max number: {max_number}\")\n",
    "\n",
    "# b. Find average of all numbers\n",
    "average_number = sum(numbers) / len(numbers)\n",
    "print(f\"b. Average of all numbers: {average_number}\")\n",
    "\n",
    "# c. Count number of numbers greater than 100\n",
    "num_greater_than_100 = sum(1 for num in numbers if num > 100)\n",
    "print(f\"c. Number of numbers greater than 100: {num_greater_than_100}\")"
   ]
  },
  {
   "cell_type": "markdown",
   "metadata": {},
   "source": [
    "### Question 3\n",
    "Assume a file city.txt with details of 5 cities in given format (cityname population(in lakhs) area(in sq KM) ):\n",
    "```css\n",
    "Example:\n",
    "Dehradun 5.78 308.20\n",
    "Delhi 190 1484\n",
    "```\n",
    "……………\n",
    "Open file city.txt and read to:\n",
    "\n",
    "a.\tDisplay details of all cities\n",
    "\n",
    "b.\tDisplay city names with population more than 10Lakhs\n",
    "\n",
    "c.\tDisplay sum of areas of all cities"
   ]
  },
  {
   "cell_type": "code",
   "execution_count": 3,
   "metadata": {},
   "outputs": [
    {
     "name": "stdout",
     "output_type": "stream",
     "text": [
      "a. Details of all cities:\n",
      "   City: Dehradun, Population: 5.78 Lakhs, Area: 308.20 sq KM\n",
      "   City: Delhi, Population: 190 Lakhs, Area: 1484 sq KM\n",
      "   City: Mumbai, Population: 220 Lakhs, Area: 603 sq KM\n",
      "   City: Tokyo, Population: 37.8 Lakhs, Area: 2190 sq KM\n",
      "   City: Sydney, Population: 5.3 Lakhs, Area: 1687 sq KM\n",
      "b. City names with population more than 10 Lakhs: Delhi, Mumbai, Tokyo\n",
      "c. Sum of areas of all cities: 6272.2 sq KM\n"
     ]
    }
   ],
   "source": [
    "# Task 3: Read and process data from \"city.txt\"\n",
    "\n",
    "# a. Display details of all cities\n",
    "with open(\"./Practical-8/city.txt\", \"r\") as file:\n",
    "    city_details = [line.split() for line in file.readlines()]\n",
    "    print(\"a. Details of all cities:\")\n",
    "    for city in city_details:\n",
    "        print(f\"   City: {city[0]}, Population: {city[1]} Lakhs, Area: {city[2]} sq KM\")\n",
    "\n",
    "# b. Display city names with population more than 10 Lakhs\n",
    "population_gt_10Lakhs = [city[0] for city in city_details if float(city[1]) > 10]\n",
    "print(f\"b. City names with population more than 10 Lakhs: {', '.join(population_gt_10Lakhs)}\")\n",
    "\n",
    "# c. Display sum of areas of all cities\n",
    "sum_of_areas = sum(float(city[2]) for city in city_details)\n",
    "print(f\"c. Sum of areas of all cities: {sum_of_areas} sq KM\")"
   ]
  },
  {
   "cell_type": "markdown",
   "metadata": {},
   "source": [
    "### Question 4\n",
    "Input two values from user where the first line contains N, the number of test cases. The next N lines contain the space separated values of a and b. Perform integer division and print a/b. Handle exception in case of ZeroDivisionError or ValueError. \n",
    "```css\n",
    "Sample input\n",
    "1 0\n",
    "2 $\n",
    "3 1 \n",
    "Sample Output :\n",
    "Error Code: integer division or modulo by zero \n",
    "Error Code: invalid literal for int() with base 10: '$' 3\n",
    "```\n"
   ]
  },
  {
   "cell_type": "code",
   "execution_count": 10,
   "metadata": {},
   "outputs": [
    {
     "name": "stdout",
     "output_type": "stream",
     "text": [
      "0\n",
      "0\n"
     ]
    }
   ],
   "source": [
    "# Task 4: Input two values from the user and handle exceptions\n",
    "\n",
    "try:\n",
    "    # Taking input of number of test cases\n",
    "    N = int(input(\"Enter the number of test cases: \"))\n",
    "    \n",
    "    for _ in range(N):\n",
    "        # Taking space-separated values of a and b\n",
    "        a, b = map(int, input().split())\n",
    "        \n",
    "        # Performing integer division and printing result\n",
    "        result = a // b\n",
    "        print(result)\n",
    "\n",
    "except ZeroDivisionError:\n",
    "    print(\"Error Code: integer division or modulo by zero\")\n",
    "\n",
    "except ValueError as e:\n",
    "    print(f\"Error Code: {e}\")"
   ]
  },
  {
   "cell_type": "markdown",
   "metadata": {},
   "source": [
    "### Question 5\n",
    "Create multiple suitable exceptions for a file handling program. "
   ]
  },
  {
   "cell_type": "code",
   "execution_count": 5,
   "metadata": {},
   "outputs": [
    {
     "name": "stdout",
     "output_type": "stream",
     "text": [
      "Error: File not found\n"
     ]
    }
   ],
   "source": [
    "# Task 5: Create multiple suitable exceptions for a file handling program\n",
    "# Example of FileNotFoundError and PermissionError\n",
    "try:\n",
    "    with open(\"./Practical-8/nonexistent_file.txt\", \"r\") as file:\n",
    "        content = file.read()\n",
    "\n",
    "except FileNotFoundError:\n",
    "    print(\"Error: File not found\")\n",
    "\n",
    "except PermissionError:\n",
    "    print(\"Error: Permission denied to access the file\")"
   ]
  },
  {
   "cell_type": "code",
   "execution_count": null,
   "metadata": {},
   "outputs": [],
   "source": []
  }
 ],
 "metadata": {
  "kernelspec": {
   "display_name": "base",
   "language": "python",
   "name": "python3"
  },
  "language_info": {
   "codemirror_mode": {
    "name": "ipython",
    "version": 3
   },
   "file_extension": ".py",
   "mimetype": "text/x-python",
   "name": "python",
   "nbconvert_exporter": "python",
   "pygments_lexer": "ipython3",
   "version": "3.11.5"
  }
 },
 "nbformat": 4,
 "nbformat_minor": 2
}
