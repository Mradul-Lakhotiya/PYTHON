{
 "cells": [
  {
   "cell_type": "markdown",
   "metadata": {},
   "source": [
    "### Question 1\n",
    "Find a factorial of given number."
   ]
  },
  {
   "cell_type": "code",
   "execution_count": 7,
   "metadata": {},
   "outputs": [
    {
     "name": "stdout",
     "output_type": "stream",
     "text": [
      "The factorial of 0 is 1\n"
     ]
    }
   ],
   "source": [
    "to_find = int(input(\"Enter The number to find the factorial : \"))\n",
    "\n",
    "fact = 1\n",
    "if (to_find >= 2):\n",
    "    for n in range(2, to_find + 1):\n",
    "        fact *= n\n",
    "\n",
    "print(f\"The factorial of {to_find} is {fact}\")"
   ]
  },
  {
   "cell_type": "markdown",
   "metadata": {},
   "source": [
    "### Question 2\n",
    "Find whether the given number is Armstrong number."
   ]
  },
  {
   "cell_type": "code",
   "execution_count": 20,
   "metadata": {},
   "outputs": [
    {
     "name": "stdout",
     "output_type": "stream",
     "text": [
      "153 is am Armstrong number\n"
     ]
    }
   ],
   "source": [
    "num = input(\"Enter a sting or number any thing : \")\n",
    "\n",
    "length = len(num)\n",
    "temp = int(num)\n",
    "sum = 0\n",
    "\n",
    "for i in range(0, length):\n",
    "    sum += (temp % 10) ** length\n",
    "    temp //= 10\n",
    "\n",
    "if (sum == int(num)):\n",
    "    print(f\"{num} is am Armstrong number\")\n",
    "else:\n",
    "    print(f\"{num} is not an Armstrong number\")"
   ]
  },
  {
   "cell_type": "markdown",
   "metadata": {},
   "source": [
    "### Question 3\n",
    "Print Fibonacci series up to given term."
   ]
  },
  {
   "cell_type": "code",
   "execution_count": 13,
   "metadata": {},
   "outputs": [
    {
     "name": "stdout",
     "output_type": "stream",
     "text": [
      "1, 1, 2, 3, 5, 8, 13, 21, 34, 55\n"
     ]
    }
   ],
   "source": [
    "no_of_terms = int(input(\"Enter Till Where to print the Fibonacci : \"))\n",
    "\n",
    "Fibonacci = [1, 1]\n",
    "\n",
    "if(no_of_terms > 2):\n",
    "    for i in range(2, no_of_terms):\n",
    "        Fibonacci.append(Fibonacci[i - 2] + Fibonacci[i - 1])\n",
    "\n",
    "Fibonacci_str = map(str, Fibonacci)\n",
    "\n",
    "print(', '.join(Fibonacci_str))"
   ]
  },
  {
   "cell_type": "markdown",
   "metadata": {},
   "source": [
    "### Question 4\n",
    "Write a program to find if given number is prime number or not."
   ]
  },
  {
   "cell_type": "code",
   "execution_count": 4,
   "metadata": {},
   "outputs": [
    {
     "name": "stdout",
     "output_type": "stream",
     "text": [
      "2 is a prime number \n"
     ]
    }
   ],
   "source": [
    "import math\n",
    "\n",
    "num = int(input(\"Enter a Number : \"))\n",
    "\n",
    "is_prime = True\n",
    "\n",
    "for i in range(2, int(math.sqrt(num))):\n",
    "    if (num % i == 0):\n",
    "        is_prime = False\n",
    "        break\n",
    "\n",
    "if (is_prime):\n",
    "    print(f\"{num} is a prime number \")"
   ]
  },
  {
   "cell_type": "markdown",
   "metadata": {},
   "source": [
    "### Question 5\n",
    "Check whether given number is palindrome or not."
   ]
  },
  {
   "cell_type": "code",
   "execution_count": 7,
   "metadata": {},
   "outputs": [
    {
     "name": "stdout",
     "output_type": "stream",
     "text": [
      "121 is a palindrome\n"
     ]
    }
   ],
   "source": [
    "num = input(\"Enter a number : \")\n",
    "\n",
    "left = 0\n",
    "right = len(num) - 1\n",
    "is_palindrome = True\n",
    "\n",
    "while(left < right):\n",
    "    if(num[left] != num[right]):\n",
    "        is_palindrome = False\n",
    "        break\n",
    "    left += 1\n",
    "    right -= 1\n",
    "\n",
    "if(is_palindrome):\n",
    "    print(f\"{num} is a palindrome\")\n",
    "else:\n",
    "    print(f\"{num} is not a palindrome\") "
   ]
  },
  {
   "cell_type": "markdown",
   "metadata": {},
   "source": [
    "### Question 6\n",
    "Write a program to print sum of digits."
   ]
  },
  {
   "cell_type": "code",
   "execution_count": 14,
   "metadata": {},
   "outputs": [
    {
     "name": "stdout",
     "output_type": "stream",
     "text": [
      "The sum of all the digits in 123 will be 6\n"
     ]
    }
   ],
   "source": [
    "num = input(\"Enter a Number : \")\n",
    "\n",
    "sum = 0\n",
    "\n",
    "for i in range(0, len(num)):\n",
    "    sum += int(num[i])\n",
    "\n",
    "print(f\"The sum of all the digits in {num} will be {sum}\")"
   ]
  },
  {
   "cell_type": "markdown",
   "metadata": {},
   "source": [
    "### Question 7\n",
    "Count and print all numbers divisible by 5 or 7 between 1 to 100."
   ]
  },
  {
   "cell_type": "code",
   "execution_count": 19,
   "metadata": {},
   "outputs": [
    {
     "name": "stdout",
     "output_type": "stream",
     "text": [
      "5, 7, 10, 14, 15, 20, 21, 25, 28, 30, 35, 40, 42, 45, 49, 50, 55, 56, 60, 63, 65, 70, 75, 77, 80, 84, 85, 90, 91, 95, 98, 100, "
     ]
    }
   ],
   "source": [
    "count = 0\n",
    "\n",
    "for i in range(1, 101):\n",
    "    if(i % 5 == 0 or i % 7 == 0):\n",
    "        count += 1\n",
    "        print(i, end=\", \")\n"
   ]
  },
  {
   "cell_type": "markdown",
   "metadata": {},
   "source": [
    "### Question 8\n",
    "Convert all lower cases to upper case in a string."
   ]
  },
  {
   "cell_type": "code",
   "execution_count": 22,
   "metadata": {},
   "outputs": [
    {
     "name": "stdout",
     "output_type": "stream",
     "text": [
      "mrada : string in lower case\n"
     ]
    }
   ],
   "source": [
    "str1 = input(\"Enter a String in upper Case : \")\n",
    "\n",
    "print(f\"{str.lower(str1)} : string in lower case\")"
   ]
  },
  {
   "cell_type": "markdown",
   "metadata": {},
   "source": [
    "### Question 9\n",
    "Print all prime numbers between 1 and 100."
   ]
  },
  {
   "cell_type": "code",
   "execution_count": 26,
   "metadata": {},
   "outputs": [
    {
     "name": "stdout",
     "output_type": "stream",
     "text": [
      "2, 3, 4, 5, 6, 7, 8, 9, 11, 13, 15, 17, 19, 23, 25, 29, 31, 35, 37, 41, 43, 47, 49, 53, 59, 61, 67, 71, 73, 79, 83, 89, 97, "
     ]
    }
   ],
   "source": [
    "import math\n",
    "\n",
    "for i in range(1, 101):\n",
    "    is_prime = True\n",
    "\n",
    "    for j in range(2, int(math.sqrt(i))):\n",
    "        if(i % j == 0):\n",
    "            is_prime = False\n",
    "            break\n",
    "\n",
    "    if(is_prime and i != 1):\n",
    "        print(i, end=', ')"
   ]
  },
  {
   "cell_type": "markdown",
   "metadata": {},
   "source": [
    "### Question 10\n",
    "Print the table for a given number:\n",
    "\n",
    "5 * 1 = 5\n",
    "\n",
    "5 * 2 = 10……….."
   ]
  },
  {
   "cell_type": "code",
   "execution_count": 28,
   "metadata": {},
   "outputs": [
    {
     "name": "stdout",
     "output_type": "stream",
     "text": [
      "3 * 1 = 3\n",
      "3 * 2 = 6\n",
      "3 * 3 = 9\n",
      "3 * 4 = 12\n",
      "3 * 5 = 15\n",
      "3 * 6 = 18\n",
      "3 * 7 = 21\n",
      "3 * 8 = 24\n",
      "3 * 9 = 27\n",
      "3 * 10 = 30\n"
     ]
    }
   ],
   "source": [
    "table_to_print = int(input(\"Enter Which table to print : \"))\n",
    "till_where_to_print = int(input(\"Enter Till where to print : \"))\n",
    "\n",
    "for i in range(1, till_where_to_print + 1):\n",
    "    print(f\"{table_to_print} * {i} = {table_to_print * i}\")"
   ]
  }
 ],
 "metadata": {
  "kernelspec": {
   "display_name": "base",
   "language": "python",
   "name": "python3"
  },
  "language_info": {
   "codemirror_mode": {
    "name": "ipython",
    "version": 3
   },
   "file_extension": ".py",
   "mimetype": "text/x-python",
   "name": "python",
   "nbconvert_exporter": "python",
   "pygments_lexer": "ipython3",
   "version": "3.11.5"
  }
 },
 "nbformat": 4,
 "nbformat_minor": 2
}
