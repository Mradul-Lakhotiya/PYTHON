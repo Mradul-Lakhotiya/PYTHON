{
 "cells": [
  {
   "cell_type": "markdown",
   "metadata": {},
   "source": [
    "### Question 1\n",
    "Write a program to count and display the number of capital letters in a given string."
   ]
  },
  {
   "cell_type": "code",
   "execution_count": 3,
   "metadata": {},
   "outputs": [
    {
     "name": "stdout",
     "output_type": "stream",
     "text": [
      "The Number of Capital letters in MDSCTCADCSCdvvjvfjvfefvewfweff are 11\n"
     ]
    }
   ],
   "source": [
    "def countNumberOfCapitalLetters(string):\n",
    "    length = len(string)\n",
    "    count = 0\n",
    "    for i in range(length):\n",
    "        if string[i] >= 'A' and string[i] <= 'Z':\n",
    "            count += 1\n",
    "    \n",
    "    return count\n",
    "\n",
    "string = input(\"Enter a string : \")\n",
    "print(f\"The Number of Capital letters in {string} are {countNumberOfCapitalLetters(string)}\")"
   ]
  },
  {
   "cell_type": "markdown",
   "metadata": {},
   "source": [
    "### Question 2\n",
    "Count total number of vowels in a given string."
   ]
  },
  {
   "cell_type": "code",
   "execution_count": 4,
   "metadata": {},
   "outputs": [
    {
     "name": "stdout",
     "output_type": "stream",
     "text": [
      "The Number of Vowels in vdyvefveufvuwefuefCCACADBUDUWDNWSDj are 11\n"
     ]
    }
   ],
   "source": [
    "vowels = ['a', 'e', 'i', 'o', 'u']\n",
    "\n",
    "def numberOfVowels(string):\n",
    "    count = 0 \n",
    "\n",
    "    for i in range(len(string)):\n",
    "        if (string[i] in vowels):\n",
    "            count += 1\n",
    "    \n",
    "    return count\n",
    "\n",
    "string = input(\"Enter a string : \")\n",
    "print(f\"The Number of Vowels in {string} are {numberOfVowels(string.lower())}\")"
   ]
  },
  {
   "cell_type": "markdown",
   "metadata": {},
   "source": [
    "### Question 3 \n",
    "Input a sentence and print words in separate lines."
   ]
  },
  {
   "cell_type": "code",
   "execution_count": 7,
   "metadata": {},
   "outputs": [
    {
     "name": "stdout",
     "output_type": "stream",
     "text": [
      "my\n",
      "name\n",
      "is\n",
      "role\n",
      "play\n"
     ]
    }
   ],
   "source": [
    "sentence = input(\"Enter a Sentence : \")\n",
    "\n",
    "words = sentence.split(' ')\n",
    "\n",
    "for word in words:\n",
    "    print(word)"
   ]
  },
  {
   "cell_type": "code",
   "execution_count": null,
   "metadata": {},
   "outputs": [],
   "source": []
  }
 ],
 "metadata": {
  "kernelspec": {
   "display_name": "base",
   "language": "python",
   "name": "python3"
  },
  "language_info": {
   "codemirror_mode": {
    "name": "ipython",
    "version": 3
   },
   "file_extension": ".py",
   "mimetype": "text/x-python",
   "name": "python",
   "nbconvert_exporter": "python",
   "pygments_lexer": "ipython3",
   "version": "3.11.5"
  }
 },
 "nbformat": 4,
 "nbformat_minor": 2
}
