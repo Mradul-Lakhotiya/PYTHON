{
 "cells": [
  {
   "cell_type": "markdown",
   "metadata": {},
   "source": [
    "### Question 1\n",
    "Write a program to count and display the number of capital letters in a given string."
   ]
  },
  {
   "cell_type": "code",
   "execution_count": 3,
   "metadata": {},
   "outputs": [
    {
     "name": "stdout",
     "output_type": "stream",
     "text": [
      "The Number of Capital letters in MDSCTCADCSCdvvjvfjvfefvewfweff are 11\n"
     ]
    }
   ],
   "source": [
    "def countNumberOfCapitalLetters(string):\n",
    "    length = len(string)\n",
    "    count = 0\n",
    "    for i in range(length):\n",
    "        if string[i] >= 'A' and string[i] <= 'Z':\n",
    "            count += 1\n",
    "    \n",
    "    return count\n",
    "\n",
    "string = input(\"Enter a string : \")\n",
    "print(f\"The Number of Capital letters in {string} are {countNumberOfCapitalLetters(string)}\")"
   ]
  },
  {
   "cell_type": "markdown",
   "metadata": {},
   "source": [
    "### Question 2\n",
    "Count total number of vowels in a given string."
   ]
  },
  {
   "cell_type": "code",
   "execution_count": 4,
   "metadata": {},
   "outputs": [
    {
     "name": "stdout",
     "output_type": "stream",
     "text": [
      "The Number of Vowels in vdyvefveufvuwefuefCCACADBUDUWDNWSDj are 11\n"
     ]
    }
   ],
   "source": [
    "vowels = ['a', 'e', 'i', 'o', 'u']\n",
    "\n",
    "def numberOfVowels(string):\n",
    "    count = 0 \n",
    "\n",
    "    for i in range(len(string)):\n",
    "        if (string[i] in vowels):\n",
    "            count += 1\n",
    "    \n",
    "    return count\n",
    "\n",
    "string = input(\"Enter a string : \")\n",
    "print(f\"The Number of Vowels in {string} are {numberOfVowels(string.lower())}\")"
   ]
  },
  {
   "cell_type": "markdown",
   "metadata": {},
   "source": [
    "### Question 3 \n",
    "Input a sentence and print words in separate lines."
   ]
  },
  {
   "cell_type": "code",
   "execution_count": 7,
   "metadata": {},
   "outputs": [
    {
     "name": "stdout",
     "output_type": "stream",
     "text": [
      "my\n",
      "name\n",
      "is\n",
      "role\n",
      "play\n"
     ]
    }
   ],
   "source": [
    "sentence = input(\"Enter a Sentence : \")\n",
    "\n",
    "words = sentence.split(' ')\n",
    "\n",
    "for word in words:\n",
    "    print(word)"
   ]
  },
  {
   "cell_type": "markdown",
   "metadata": {},
   "source": [
    "### Question 4\n",
    "WAP to enter a string and a substring. You have to print the number of times that the substring occurs in the given string. String traversal will take place from left to right, not from right to left.\n",
    "```js\n",
    "    Sample Input\n",
    "        ABCDCDC\n",
    "        CDC\n",
    "    Sample Output\n",
    "        2\n",
    "```\n"
   ]
  },
  {
   "cell_type": "code",
   "execution_count": 8,
   "metadata": {},
   "outputs": [
    {
     "name": "stdout",
     "output_type": "stream",
     "text": [
      "a\n",
      "d\n",
      "a\n",
      "d\n",
      "a\n",
      "d\n",
      "The number of time \"a\" come in \"adadad\" is \"3\"\n"
     ]
    }
   ],
   "source": [
    "to_find = input(\"Entre the String to find : \")\n",
    "in_find = input(f\"Entre the String To find {to_find} in : \")\n",
    "\n",
    "len_to = len(to_find)\n",
    "len_in = len(in_find)\n",
    "count = 0\n",
    "           \n",
    "for i in range(len_in - len_to + 1):\n",
    "    # print(in_find[i:i+len_to])\n",
    "\n",
    "    if in_find[i:i+len_to] == to_find:\n",
    "        count += 1\n",
    "\n",
    "print(f\"The number of time \\\"{to_find}\\\" come in \\\"{in_find}\\\" is \\\"{count}\\\"\")"
   ]
  },
  {
   "cell_type": "markdown",
   "metadata": {},
   "source": [
    "### Question 5\n",
    "\n",
    "Given a string containing both upper and lower case alphabets. Write a Python program to count the number of occurrences of each alphabet (case insensitive) and display the same.\n",
    "```cs\n",
    "    Sample Input\n",
    "        ABaBCbGc\n",
    "    Sample Output\n",
    "        2A\n",
    "        3B\n",
    "        2C\n",
    "        1G\n",
    "```\n"
   ]
  },
  {
   "cell_type": "code",
   "execution_count": 18,
   "metadata": {},
   "outputs": [
    {
     "name": "stdout",
     "output_type": "stream",
     "text": [
      "1B\n",
      "2S\n",
      "2A\n",
      "1J\n",
      "2H\n",
      "3D\n",
      "3V\n",
      "3W\n",
      "1E\n",
      "1Q\n"
     ]
    }
   ],
   "source": [
    "string = input(\"Entre the string to find the cont in : \").upper()\n",
    "\n",
    "contain_count = {}\n",
    "\n",
    "for i in range(len(string)):\n",
    "    if string[i] not in contain_count:\n",
    "        contain_count[string[i]] = 1\n",
    "    else:\n",
    "        contain_count[string[i]] += 1\n",
    "\n",
    "for key, item in contain_count.items():\n",
    "    print(f\"{item}{key}\")"
   ]
  },
  {
   "cell_type": "markdown",
   "metadata": {},
   "source": [
    "### Question 6\n",
    "Program to count number of unique words in a given sentence using sets."
   ]
  },
  {
   "cell_type": "code",
   "execution_count": 1,
   "metadata": {},
   "outputs": [
    {
     "name": "stdout",
     "output_type": "stream",
     "text": [
      "8\n"
     ]
    }
   ],
   "source": [
    "sentence = input(\"Entre a Sentence : \")\n",
    "\n",
    "unique_words = set(sentence.split(' '))\n",
    "num_words = len(unique_words)\n",
    "\n",
    "print(num_words)"
   ]
  },
  {
   "cell_type": "markdown",
   "metadata": {},
   "source": [
    "### Question 7\n",
    "Create 2 sets s1 and s2 of n fruits each by taking input from user and find:\n",
    "\n",
    "a)\tFruits which are in both sets s1 and s2\n",
    "\n",
    "b)\tFruits only in s1 but not in s2\n",
    "\n",
    "c)\tCount of all fruits from s1 and s2"
   ]
  },
  {
   "cell_type": "code",
   "execution_count": 3,
   "metadata": {},
   "outputs": [
    {
     "name": "stdout",
     "output_type": "stream",
     "text": [
      "Common fruits in sets s1 and s2: {'banana', 'orange'}\n",
      "Fruits only in s1 but not in s2: {'onion', 'tamato'}\n",
      "Total count of fruits in sets s1 and s2: 8\n"
     ]
    }
   ],
   "source": [
    "s1 = set(input(\"Enter fruits for set s1 separated by space: \").split(' '))\n",
    "s2 = set(input(\"Enter fruits for set s2 separated by space: \").split(' '))\n",
    "\n",
    "common_fruits = s1.intersection(s2)\n",
    "print(\"Common fruits in sets s1 and s2:\", common_fruits)\n",
    "\n",
    "unique_to_s1 = s1.difference(s2)\n",
    "print(\"Fruits only in s1 but not in s2:\", unique_to_s1)\n",
    "\n",
    "total_fruits = len(s1) + len(s2)\n",
    "print(\"Total count of fruits in sets s1 and s2:\", total_fruits)"
   ]
  },
  {
   "cell_type": "markdown",
   "metadata": {},
   "source": [
    "### Question 8\n",
    "Take two sets and apply various set operations on them :\n",
    "\n",
    "S1 = {Red ,yellow, orange , blue }\n",
    "\n",
    "S2 = {violet, blue , purple}"
   ]
  },
  {
   "cell_type": "code",
   "execution_count": 2,
   "metadata": {},
   "outputs": [
    {
     "name": "stdout",
     "output_type": "stream",
     "text": [
      "Union of sets S1 and S2: {'yellow', 'Red', 'blue', 'orange', 'violet', 'purple'}\n",
      "Intersection of sets S1 and S2: {'blue'}\n",
      "Difference of sets S1 and S2 (S1 - S2): {'yellow', 'Red', 'orange'}\n",
      "Symmetric Difference of sets S1 and S2: {'orange', 'yellow', 'Red', 'violet', 'purple'}\n"
     ]
    }
   ],
   "source": [
    "S1 = {'Red', 'yellow', 'orange', 'blue'}\n",
    "S2 = {'violet', 'blue', 'purple'}\n",
    "\n",
    "union_set = S1.union(S2)\n",
    "print(\"Union of sets S1 and S2:\", union_set)\n",
    "\n",
    "intersection_set = S1.intersection(S2)\n",
    "print(\"Intersection of sets S1 and S2:\", intersection_set)\n",
    "\n",
    "difference_set = S1.difference(S2)\n",
    "print(\"Difference of sets S1 and S2 (S1 - S2):\", difference_set)\n",
    "\n",
    "symmetric_difference_set = S1.symmetric_difference(S2)\n",
    "print(\"Symmetric Difference of sets S1 and S2:\", symmetric_difference_set)"
   ]
  }
 ],
 "metadata": {
  "kernelspec": {
   "display_name": "base",
   "language": "python",
   "name": "python3"
  },
  "language_info": {
   "codemirror_mode": {
    "name": "ipython",
    "version": 3
   },
   "file_extension": ".py",
   "mimetype": "text/x-python",
   "name": "python",
   "nbconvert_exporter": "python",
   "pygments_lexer": "ipython3",
   "version": "3.11.5"
  }
 },
 "nbformat": 4,
 "nbformat_minor": 2
}
