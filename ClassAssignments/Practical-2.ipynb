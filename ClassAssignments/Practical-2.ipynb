{
 "cells": [
  {
   "cell_type": "markdown",
   "metadata": {},
   "source": [
    "### Question 1"
   ]
  },
  {
   "cell_type": "code",
   "execution_count": 1,
   "metadata": {},
   "outputs": [
    {
     "name": "stdout",
     "output_type": "stream",
     "text": [
      "Add : 16\n",
      "Sub : 2\n",
      "Mult : 63\n",
      "Div : 1.2857142857142858\n"
     ]
    }
   ],
   "source": [
    "# Declare these variables (x, y and z) as integers. Assign a value of 9 to x, \n",
    "# Assign a value of 7 to y, perform addition, multiplication, division and \n",
    "# subtraction on these two variables and Print out the result.\n",
    "\n",
    "x = 9\n",
    "y = 7\n",
    "z = None\n",
    "\n",
    "print(f\"Add : {x + y}\")\n",
    "print(f\"Sub : {x - y}\")\n",
    "print(f\"Mult : {x * y}\")\n",
    "print(f\"Div : {x / y}\")"
   ]
  },
  {
   "cell_type": "markdown",
   "metadata": {},
   "source": [
    "### Question 2"
   ]
  },
  {
   "cell_type": "code",
   "execution_count": 2,
   "metadata": {},
   "outputs": [
    {
     "name": "stdout",
     "output_type": "stream",
     "text": [
      "The area of the cricle with radii 3 will be 28.274333882308138\n"
     ]
    }
   ],
   "source": [
    "# Write a Program where the radius is taken as \n",
    "# input to compute the area of a circle.\n",
    "import math\n",
    "\n",
    "radii = int(input(\"Enter The value of radii : \"))\n",
    "area = math.pi * (radii ** 2)\n",
    "print(f\"The area of the cricle with radii {radii} will be {area}\")"
   ]
  },
  {
   "cell_type": "markdown",
   "metadata": {},
   "source": [
    "### Question 3"
   ]
  },
  {
   "cell_type": "code",
   "execution_count": 3,
   "metadata": {},
   "outputs": [
    {
     "name": "stdout",
     "output_type": "stream",
     "text": [
      "The value of (x * y)^2 is : 36\n"
     ]
    }
   ],
   "source": [
    "# Write a Python program to solve (x+y)*(x+y)\n",
    "# Test data : x = 4 , y = 3\n",
    "# Expected output: 49\n",
    "\n",
    "x = int(input(\"Enter the Value of x : \"))\n",
    "y = int(input(\"Enter the value of y : \"))\n",
    "\n",
    "print(f\"The value of (x * y)^2 is : {(x * y) ** 2}\")"
   ]
  },
  {
   "cell_type": "markdown",
   "metadata": {},
   "source": [
    "### Question 4"
   ]
  },
  {
   "cell_type": "code",
   "execution_count": 4,
   "metadata": {},
   "outputs": [
    {
     "name": "stdout",
     "output_type": "stream",
     "text": [
      "The hypotenuse will be 10.295630140987\n"
     ]
    }
   ],
   "source": [
    "# Write a program to compute the length of the hypotenuse\n",
    "# (c) of a right triangle using Pythagoras theorem. \n",
    "\n",
    "base = int(input(\"Enter the value of base : \"))\n",
    "perp = int(input(\"Entre the vaue of perpendicular : \"))\n",
    "\n",
    "print(f\"The hypotenuse will be {(base ** 2 + perp ** 2) ** 0.5}\")"
   ]
  },
  {
   "cell_type": "markdown",
   "metadata": {},
   "source": [
    "### Question 5"
   ]
  },
  {
   "cell_type": "code",
   "execution_count": 7,
   "metadata": {},
   "outputs": [
    {
     "name": "stdout",
     "output_type": "stream",
     "text": [
      "The simple interest will be 12.0\n"
     ]
    }
   ],
   "source": [
    "# Write a program to find simple interest.\n",
    "\n",
    "amount = int(input(\"Enter the value of amount taken : \"))\n",
    "rate = float(input(\"Enter the rate at which it was taken : \"))\n",
    "time = int(input(\"Enter the time for which it was taken : \"))\n",
    "\n",
    "simple_interest = (amount * rate * time) / 100\n",
    "\n",
    "print(f\"The simple interest will be {simple_interest}\")"
   ]
  },
  {
   "cell_type": "markdown",
   "metadata": {},
   "source": [
    "### Question 6"
   ]
  },
  {
   "cell_type": "code",
   "execution_count": 23,
   "metadata": {},
   "outputs": [
    {
     "name": "stdout",
     "output_type": "stream",
     "text": [
      "The area will be : 1.732\n"
     ]
    }
   ],
   "source": [
    "# Write a program to find area of triangle when length of sides are given.\n",
    "# we will heorens fromula\n",
    "\n",
    "a = int(input(\"Enter the value of side a : \"))\n",
    "b = int(input(\"Enter the value of side b : \"))\n",
    "c = int(input(\"Enter the value of side c : \"))\n",
    "\n",
    "S = (a + b + c) / 2\n",
    "\n",
    "area =  (S * (S - a) * (S - b) * (S - c)) ** 0.5\n",
    "\n",
    "print(f\"The area will be : {area:.3f}\")\n"
   ]
  },
  {
   "cell_type": "markdown",
   "metadata": {},
   "source": [
    "### Question 7"
   ]
  },
  {
   "cell_type": "code",
   "execution_count": 13,
   "metadata": {},
   "outputs": [
    {
     "name": "stdout",
     "output_type": "stream",
     "text": [
      "0:16:40\n"
     ]
    }
   ],
   "source": [
    "# Write a program to convert given seconds into hours, \n",
    "# minutes and remaining seconds.\n",
    "\n",
    "sec = int(input(\"Enter the amout of seconds : \"))\n",
    "\n",
    "hour = sec // 3600\n",
    "sec %= 3600\n",
    "min = sec // 60\n",
    "sec %= 60\n",
    "\n",
    "print(f\"{hour}:{min}:{sec}\")"
   ]
  },
  {
   "cell_type": "markdown",
   "metadata": {},
   "source": [
    "### Question 8"
   ]
  },
  {
   "cell_type": "code",
   "execution_count": 14,
   "metadata": {},
   "outputs": [
    {
     "name": "stdout",
     "output_type": "stream",
     "text": [
      "a = 2 b : 3\n",
      "a = 3 b : 2\n"
     ]
    }
   ],
   "source": [
    "# Write a program to swap two numbers without taking additional variable.\n",
    "\n",
    "a = int(input(\"Enter the value of a : \"))\n",
    "b = int(input(\"Enter the value of b : \"))\n",
    "\n",
    "print(f\"a = {a} b : {b}\")\n",
    "\n",
    "a = a + b\n",
    "b =  a - b\n",
    "a  = a - b\n",
    "\n",
    "print(f\"a = {a} b : {b}\")"
   ]
  },
  {
   "cell_type": "markdown",
   "metadata": {},
   "source": [
    "### Question 9"
   ]
  },
  {
   "cell_type": "code",
   "execution_count": 15,
   "metadata": {},
   "outputs": [
    {
     "name": "stdout",
     "output_type": "stream",
     "text": [
      "sum : 78.0\n"
     ]
    }
   ],
   "source": [
    "# Write a program to find sum of first n natural numbers.\n",
    "\n",
    "n = int(input(\"Entre the value till u want the sum : \"))\n",
    "\n",
    "sum = (n * (n  + 1)) / 2\n",
    "\n",
    "print(f\"sum : {sum}\")"
   ]
  },
  {
   "cell_type": "markdown",
   "metadata": {},
   "source": [
    "### Question 10"
   ]
  },
  {
   "cell_type": "code",
   "execution_count": 16,
   "metadata": {},
   "outputs": [
    {
     "name": "stdout",
     "output_type": "stream",
     "text": [
      "the & table\n",
      "1 & 1 : 1\n",
      "1 & 0 : 0\n",
      "0 & 1 : 0\n",
      "0 & 0 : 0\n",
      "the & table\n",
      "1 | 1 : 1\n",
      "1 | 0 : 1\n",
      "0 | 1 : 1\n",
      "0 | 0 : 0\n",
      "the ^ table\n",
      "1 : 0\n",
      "0 : 1\n"
     ]
    }
   ],
   "source": [
    "# Write a program to print truth table for bitwise operators( & , | and ^ operators)\n",
    "\n",
    "print(\"the & table\")\n",
    "print(f\"1 & 1 : {1 & 1}\")\n",
    "print(f\"1 & 0 : {1 & 0}\")\n",
    "print(f\"0 & 1 : {0 & 1}\")\n",
    "print(f\"0 & 0 : {0 & 0}\")\n",
    "\n",
    "print(\"the & table\")\n",
    "print(f\"1 | 1 : {1 | 1}\")\n",
    "print(f\"1 | 0 : {1 | 0}\")\n",
    "print(f\"0 | 1 : {0 | 1}\")\n",
    "print(f\"0 | 0 : {0 | 0}\")\n",
    "\n",
    "print(\"the ^ table\")\n",
    "print(f\"1 : {0}\")\n",
    "print(f\"0 : {1}\")"
   ]
  },
  {
   "cell_type": "markdown",
   "metadata": {},
   "source": [
    "### Question 11"
   ]
  },
  {
   "cell_type": "code",
   "execution_count": 20,
   "metadata": {},
   "outputs": [
    {
     "name": "stdout",
     "output_type": "stream",
     "text": [
      "1 left shift by 2  : 4\n",
      "1 right shift by 2  : 0\n"
     ]
    }
   ],
   "source": [
    "\n",
    "x = int(input(\"Enter the value of x : \"))\n",
    "y = int(input(\"Enter the value to shift by : \"))\n",
    "\n",
    "print(f\"{x} left shift by {y}  : {x << y}\")\n",
    "print(f\"{x} right shift by {y}  : {x >> y}\")"
   ]
  },
  {
   "cell_type": "markdown",
   "metadata": {},
   "source": [
    "### Question 12"
   ]
  },
  {
   "cell_type": "code",
   "execution_count": 21,
   "metadata": {},
   "outputs": [
    {
     "name": "stdout",
     "output_type": "stream",
     "text": [
      "is there\n"
     ]
    }
   ],
   "source": [
    "# Using membership operator find whether a given number \n",
    "# is in sequence (10,20,56,78,89)\n",
    "\n",
    "arr = (10, 20, 56, 78, 89)\n",
    "find_num = int(input(\"Enter the number oto find : \"))\n",
    "\n",
    "\n",
    "if (find_num in arr):\n",
    "    print(\"is there\")\n",
    "else:\n",
    "    print(\"not there\")"
   ]
  },
  {
   "cell_type": "markdown",
   "metadata": {},
   "source": [
    "### Question 13"
   ]
  },
  {
   "cell_type": "code",
   "execution_count": 22,
   "metadata": {},
   "outputs": [
    {
     "name": "stdout",
     "output_type": "stream",
     "text": [
      "'1' is there in the string \"12\"\n"
     ]
    }
   ],
   "source": [
    "## Using membership operator find whether a given character is in a string.\n",
    "str = input(\"Enter the string to find the Element in : \")\n",
    "toFind = input(\"Enter the letter to find in the string : \")\n",
    "\n",
    "if (toFind in str):\n",
    "    print(f\"'{toFind}' is there in the string \\\"{str}\\\"\")\n",
    "else:\n",
    "    print(f\"'{toFind}' is not there is the string \\\"{str}\\\"\")"
   ]
  }
 ],
 "metadata": {
  "kernelspec": {
   "display_name": "base",
   "language": "python",
   "name": "python3"
  },
  "language_info": {
   "codemirror_mode": {
    "name": "ipython",
    "version": 3
   },
   "file_extension": ".py",
   "mimetype": "text/x-python",
   "name": "python",
   "nbconvert_exporter": "python",
   "pygments_lexer": "ipython3",
   "version": "3.11.5"
  }
 },
 "nbformat": 4,
 "nbformat_minor": 2
}
