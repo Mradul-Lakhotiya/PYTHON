{
 "cells": [
  {
   "cell_type": "markdown",
   "metadata": {},
   "source": [
    "### Question 1\n",
    "Scan n values in range 0-3 and print the number of times each value has occurred."
   ]
  },
  {
   "cell_type": "code",
   "execution_count": 4,
   "metadata": {},
   "outputs": [
    {
     "name": "stdout",
     "output_type": "stream",
     "text": [
      "Entre the correct value\n",
      "0 come 0 time\n",
      "1 come 1 time\n",
      "2 come 2 time\n"
     ]
    }
   ],
   "source": [
    "n = int(input(\"Entre the Number of time to scan the value : \"))\n",
    "\n",
    "count_dict = {0 : 0, 1 : 0, 2 : 0}\n",
    "\n",
    "for _ in range(n):\n",
    "    value = int(input(\"Entre the number : \"))\n",
    "\n",
    "    if (value >= 0 and value < 3):\n",
    "        count_dict[value] += 1\n",
    "    else:\n",
    "        print(\"Entre the correct value\")\n",
    "\n",
    "for key, item in count_dict.items():\n",
    "    print(f\"{key} come {item} time\")"
   ]
  },
  {
   "cell_type": "markdown",
   "metadata": {},
   "source": [
    "### Question 2\n",
    "Create a tuple to store n numeric values and find average of all values."
   ]
  },
  {
   "cell_type": "code",
   "execution_count": 1,
   "metadata": {},
   "outputs": [
    {
     "name": "stdout",
     "output_type": "stream",
     "text": [
      "Average: 3.0\n"
     ]
    }
   ],
   "source": [
    "n = int(input(\"Enter the number of values: \"))\n",
    "values = tuple(float(input(\"Enter a value: \")) for _ in range(n))\n",
    "average = sum(values) / len(values)\n",
    "print(\"Average:\", average)"
   ]
  },
  {
   "cell_type": "markdown",
   "metadata": {},
   "source": [
    "### Question 3\n",
    "\n",
    "WAP to input a list of scores for N students in a list data type. Find the score of the runner-up and print the output.\n",
    "```js\n",
    "    Sample Input\n",
    "        N = 5\n",
    "        Scores= 2 3 6 6 5\n",
    "    Sample output\n",
    "        5\n",
    "```\n",
    "Note: Given list is [2, 3, 6, 6, 5]. The maximum score is 6, second maximum is 5. Hence, we print 5 as the runner-up score.\n"
   ]
  },
  {
   "cell_type": "code",
   "execution_count": 4,
   "metadata": {},
   "outputs": [
    {
     "name": "stdout",
     "output_type": "stream",
     "text": [
      "2\n"
     ]
    }
   ],
   "source": [
    "n = int(input(\"Entre The Number of Values : \"))\n",
    "scores = []\n",
    "for i in range(n):\n",
    "    score = int(input(f\"Entre The Score {i}\"))                                         \n",
    "    scores.append(score)\n",
    "\n",
    "def find_runner_up_score(values):\n",
    "    unique_scores = sorted(set(values), reverse=True)\n",
    "    print(unique_scores[1]) if len(unique_scores) > 1 else print(\"No runner up score\")\n",
    "\n",
    "find_runner_up_score(scores)"
   ]
  },
  {
   "cell_type": "markdown",
   "metadata": {},
   "source": [
    "### Question 4\n",
    "Create a dictionary of n persons where key is name and value is city. \n",
    "\n",
    "a) Display all names\n",
    "\n",
    "b) Display all city names\n",
    "\n",
    "c) Display student name and city of all students.\n",
    "\n",
    "d) Count number of students in each city.\n"
   ]
  },
  {
   "cell_type": "code",
   "execution_count": 1,
   "metadata": {},
   "outputs": [
    {
     "name": "stdout",
     "output_type": "stream",
     "text": [
      "Names are : \n",
      "b\n",
      "City are : \n",
      "b\n",
      "Dictionary Data : \n",
      "{'b': 'b'}\n",
      "City data : \n",
      "{'b': 1}\n"
     ]
    }
   ],
   "source": [
    "n = int(input(\"Entre the Number of People : \"))\n",
    "\n",
    "data = {}\n",
    "count_dict = {}\n",
    "\n",
    "for i in range(n):\n",
    "    name = input(\"Entre the name : \")\n",
    "    city = input(\"Entre the City They Live in : \")\n",
    "    data[name] = city\n",
    "\n",
    "print(\"Names are : \")\n",
    "for name in data:\n",
    "    print(name)\n",
    "\n",
    "print(\"City are : \")\n",
    "for name in data:\n",
    "    print(data[name])\n",
    "\n",
    "print(\"Dictionary Data : \")\n",
    "print(data)\n",
    "\n",
    "for name in data:\n",
    "    if data[name] in count_dict:\n",
    "        count_dict[data[name]] += 1\n",
    "    else:\n",
    "        count_dict[data[name]] = 1\n",
    "\n",
    "print(\"City data : \")\n",
    "print(count_dict)"
   ]
  },
  {
   "cell_type": "markdown",
   "metadata": {},
   "source": [
    "### Question 5\n",
    "Store details of n movies in a dictionary by taking input from the user. Each movie must store details like name,  year, director name, production cost, collection made (earning) & perform the following :-\n",
    "\n",
    "a)\tprint all movie details\n",
    "\n",
    "b)\tdisplay name of movies released before 2015\n",
    "\n",
    "c)\tprint movies that made a profit.\n",
    "\n",
    "d)\tprint movies directed by a particular director.\n"
   ]
  },
  {
   "cell_type": "code",
   "execution_count": null,
   "metadata": {},
   "outputs": [],
   "source": [
    "# Function to input movie details\n",
    "def input_movie_details():\n",
    "    name = input(\"Enter movie name: \")\n",
    "    year = int(input(\"Enter release year: \"))\n",
    "    director = input(\"Enter director's name: \")\n",
    "    production_cost = float(input(\"Enter production cost: \"))\n",
    "    collection = float(input(\"Enter collection made: \"))\n",
    "    return {'Name': name, 'Year': year, 'Director': director, 'ProductionCost': production_cost, 'Collection': collection}\n",
    "\n",
    "# Function to print all movie details\n",
    "def print_all_movies(movie_list):\n",
    "    for movie in movie_list:\n",
    "        print(movie)\n",
    "\n",
    "# Function to display movies released before 2015\n",
    "def movies_before_2015(movie_list):\n",
    "    for movie in movie_list:\n",
    "        if movie['Year'] < 2015:\n",
    "            print(movie)\n",
    "\n",
    "# Function to print movies that made a profit\n",
    "def profitable_movies(movie_list):\n",
    "    for movie in movie_list:\n",
    "        if movie['Collection'] > movie['ProductionCost']:\n",
    "            print(movie)\n",
    "\n",
    "# Function to print movies directed by a particular director\n",
    "def movies_by_director(movie_list, director_name):\n",
    "    for movie in movie_list:\n",
    "        if movie['Director'].lower() == director_name.lower():\n",
    "            print(movie)\n",
    "\n",
    "# Main program\n",
    "n = int(input(\"Enter the number of movies: \"))\n",
    "movies = []\n",
    "\n",
    "# Input movie details from the user\n",
    "for _ in range(n):\n",
    "    movie = input_movie_details()\n",
    "    movies.append(movie)\n",
    "\n",
    "# a) Print all movie details\n",
    "print(\"\\na) All Movie Details:\")\n",
    "print_all_movies(movies)\n",
    "\n",
    "# b) Display name of movies released before 2015\n",
    "print(\"\\nb) Movies Released Before 2015:\")\n",
    "movies_before_2015(movies)\n",
    "\n",
    "# c) Print movies that made a profit\n",
    "print(\"\\nc) Profitable Movies:\")\n",
    "profitable_movies(movies)\n",
    "\n",
    "# d) Print movies directed by a particular director\n",
    "director_name = input(\"\\nd) Enter director's name to get movies directed by them: \")\n",
    "print(\"Movies directed by\", director_name, \":\")\n",
    "movies_by_director(movies, director_name)\n"
   ]
  }
 ],
 "metadata": {
  "kernelspec": {
   "display_name": "base",
   "language": "python",
   "name": "python3"
  },
  "language_info": {
   "codemirror_mode": {
    "name": "ipython",
    "version": 3
   },
   "file_extension": ".py",
   "mimetype": "text/x-python",
   "name": "python",
   "nbconvert_exporter": "python",
   "pygments_lexer": "ipython3",
   "version": "3.11.5"
  }
 },
 "nbformat": 4,
 "nbformat_minor": 2
}
