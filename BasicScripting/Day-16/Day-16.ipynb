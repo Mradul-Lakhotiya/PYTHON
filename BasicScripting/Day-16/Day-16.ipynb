{
 "cells": [
  {
   "cell_type": "code",
   "execution_count": null,
   "metadata": {},
   "outputs": [],
   "source": [
    "from turtle import Turtle, Screen\n",
    "\n",
    "timmy = Turtle()\n",
    "my_screen = Screen()\n",
    "timmy.shape(\"turtle\")\n",
    "timmy.color(\"red\")\n",
    "timmy.forward(200)\n",
    "\n",
    "print(my_screen.canvheight)\n",
    "my_screen.exitonclick()"
   ]
  },
  {
   "cell_type": "code",
   "execution_count": 13,
   "metadata": {},
   "outputs": [
    {
     "name": "stdout",
     "output_type": "stream",
     "text": [
      "+--------------+----------+\n",
      "| Pokemon Name | Type     |\n",
      "+--------------+----------+\n",
      "| Pikachu      | Electric |\n",
      "| Squirtle     | Water    |\n",
      "| Charmander   | Fire     |\n",
      "+--------------+----------+\n"
     ]
    }
   ],
   "source": [
    "import prettytable as pt\n",
    "\n",
    "table = pt.PrettyTable()\n",
    "\n",
    "table.add_column(\"Pokemon Name\", [\"Pikachu\", \"Squirtle\", \"Charmander\"])\n",
    "table.add_column(\"Type\", [\"Electric\", \"Water\", \"Fire\"])\n",
    "\n",
    "table.align = 'l' \n",
    "\n",
    "print(table)"
   ]
  },
  {
   "cell_type": "code",
   "execution_count": 5,
   "metadata": {},
   "outputs": [
    {
     "name": "stdout",
     "output_type": "stream",
     "text": [
      "Money: $0\n",
      "Water: 300ml\n",
      "Milk: 200ml\n",
      "Coffee: 100g\n",
      "Money: $0\n",
      "Water: 300ml\n",
      "Milk: 200ml\n",
      "Coffee: 100g\n",
      "Please insert coins.\n",
      "Sorry that's not enough money. Money refunded.\n",
      "Please insert coins.\n",
      "Here is $20.77 in change.\n",
      "Here is your latte ☕️. Enjoy!\n"
     ]
    }
   ],
   "source": [
    "from menu import Menu, MenuItem\n",
    "from coffee_maker import CoffeeMaker\n",
    "from money_machine import MoneyMachine\n",
    "\n",
    "\n",
    "money_machine = MoneyMachine()\n",
    "coffee_maker = CoffeeMaker()\n",
    "menu = Menu()\n",
    "\n",
    "money_machine.report()\n",
    "coffee_maker.report()\n",
    "\n",
    "is_on = True\n",
    "\n",
    "\n",
    "\n",
    "while is_on:\n",
    "    options = menu.get_items()\n",
    "    choice = input(f\"What Drink Do you want {options}\")\n",
    "    if choice == \"off\":\n",
    "        is_on = False\n",
    "    elif choice == \"report\":\n",
    "        money_machine.report()\n",
    "        coffee_maker.report()\n",
    "    else:\n",
    "        drink = menu.find_drink(choice)\n",
    "        if coffee_maker.is_resource_sufficient(drink) and money_machine.make_payment(drink.cost):\n",
    "            coffee_maker.make_coffee(drink)"
   ]
  },
  {
   "cell_type": "code",
   "execution_count": null,
   "metadata": {},
   "outputs": [],
   "source": []
  }
 ],
 "metadata": {
  "kernelspec": {
   "display_name": "base",
   "language": "python",
   "name": "python3"
  },
  "language_info": {
   "codemirror_mode": {
    "name": "ipython",
    "version": 3
   },
   "file_extension": ".py",
   "mimetype": "text/x-python",
   "name": "python",
   "nbconvert_exporter": "python",
   "pygments_lexer": "ipython3",
   "version": "3.11.5"
  }
 },
 "nbformat": 4,
 "nbformat_minor": 2
}
